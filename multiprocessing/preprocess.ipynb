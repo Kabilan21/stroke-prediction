{
 "cells": [
  {
   "cell_type": "code",
   "execution_count": 13,
   "metadata": {},
   "outputs": [],
   "source": [
    "import cv2\n",
    "from matplotlib import pyplot as plt\n",
    "%matplotlib inline\n",
    "import numpy as np\n",
    "import os"
   ]
  },
  {
   "cell_type": "code",
   "execution_count": 2,
   "metadata": {},
   "outputs": [],
   "source": [
    "from sklearn.cluster import KMeans\n",
    "from collections import Counter\n",
    "from skimage.color import rgb2lab, deltaE_cie76\n",
    "from collections import Counter"
   ]
  },
  {
   "cell_type": "code",
   "execution_count": 10,
   "metadata": {},
   "outputs": [],
   "source": [
    "def process(path,name,folder):\n",
    "    image = cv2.imread(path,1)\n",
    "    frame = image.copy()    \n",
    "    image = cv2.cvtColor(image, cv2.COLOR_BGR2RGB)\n",
    "    h, w, _ = image.shape\n",
    "    w_new = int(100 * w / max(w, h) )\n",
    "    h_new = int(100 * h / max(w, h) )\n",
    "    image = cv2.resize(image, (w_new, h_new));\n",
    "    image_array = image.reshape((image.shape[0] * image.shape[1], 3))\n",
    "    clf = KMeans(n_clusters = 20)\n",
    "    clf.fit(image_array)\n",
    "    r_colors = [ int(each[0]) for each in clf.cluster_centers_]\n",
    "    r_colors.sort()\n",
    "    pairs = []\n",
    "    for i in range(len(r_colors)-1):\n",
    "        pairs.append((r_colors[i],r_colors[i+1]))\n",
    "    for i , value in enumerate(pairs):\n",
    "        if i < 8 or i > 13:\n",
    "            continue\n",
    "        if not os.path.exists(f\"pdataset/{folder}/{i}_class\"):\n",
    "            os.mkdir(f\"pdataset/{folder}/{i}_class\")\n",
    "            \n",
    "        lo, hi = value[0],value[1]\n",
    "        lower_blue = np.array([lo-1, lo-1, lo-1])\n",
    "        upper_blue = np.array([hi+1,hi+1, hi+1])\n",
    "        mask = cv2.inRange(frame, lower_blue, upper_blue)\n",
    "        r = np.full((frame.shape[1], frame.shape[0],1),lo)\n",
    "        g = np.full((frame.shape[1], frame.shape[0],1),255)\n",
    "        b = np.full((frame.shape[1], frame.shape[0],1),hi)\n",
    "        arr = np.dstack((r,g,b))\n",
    "        result = cv2.bitwise_or(arr, arr, mask = mask)\n",
    "        cv2.imwrite(f\"pdataset/{folder}/{i}_class/{name}\",result)\n",
    "        \n"
   ]
  },
  {
   "cell_type": "code",
   "execution_count": 11,
   "metadata": {},
   "outputs": [],
   "source": [
    "for folder in os.listdir(\"dataset\"):\n",
    "    for each in os.listdir(f\"dataset/{folder}\"):\n",
    "        process(f\"dataset/{folder}/{each}\",each,folder)\n",
    "        \n",
    "        "
   ]
  },
  {
   "cell_type": "code",
   "execution_count": 10,
   "metadata": {},
   "outputs": [
    {
     "name": "stdout",
     "output_type": "stream",
     "text": [
      "C:\\Users\\kabil\\Desktop\\stoke-prediction\\multiprocessing\n"
     ]
    }
   ],
   "source": [
    "!cd"
   ]
  },
  {
   "cell_type": "code",
   "execution_count": 7,
   "metadata": {},
   "outputs": [
    {
     "name": "stdout",
     "output_type": "stream",
     "text": [
      "dataset\n",
      "pdataset\n",
      "preprocess.ipynb\n"
     ]
    }
   ],
   "source": [
    "!ls"
   ]
  }
 ],
 "metadata": {
  "kernelspec": {
   "display_name": "Python 3",
   "language": "python",
   "name": "python3"
  },
  "language_info": {
   "codemirror_mode": {
    "name": "ipython",
    "version": 3
   },
   "file_extension": ".py",
   "mimetype": "text/x-python",
   "name": "python",
   "nbconvert_exporter": "python",
   "pygments_lexer": "ipython3",
   "version": "3.7.7"
  }
 },
 "nbformat": 4,
 "nbformat_minor": 4
}
