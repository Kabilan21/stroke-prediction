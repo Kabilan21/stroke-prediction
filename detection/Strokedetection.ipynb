{
 "cells": [
  {
   "cell_type": "markdown",
   "metadata": {},
   "source": [
    "# Data Preprocessing"
   ]
  },
  {
   "cell_type": "code",
   "execution_count": 1,
   "metadata": {},
   "outputs": [
    {
     "name": "stderr",
     "output_type": "stream",
     "text": [
      "C:\\Users\\kabil\\Anaconda3\\lib\\site-packages\\requests\\__init__.py:91: RequestsDependencyWarning: urllib3 (1.26.7) or chardet (3.0.4) doesn't match a supported version!\n",
      "  RequestsDependencyWarning)\n"
     ]
    }
   ],
   "source": [
    "import numpy as np\n",
    "import os\n",
    "import cv2\n",
    "import tensorflow as tf\n",
    "import pickle\n",
    "from random import shuffle\n",
    "import matplotlib.pyplot as plt\n",
    "import datetime"
   ]
  },
  {
   "cell_type": "code",
   "execution_count": null,
   "metadata": {},
   "outputs": [],
   "source": [
    "dataset = os.path.join(os.getcwd(), \"pdataset\")\n",
    "data = []\n",
    "for i , value in enumerate(os.listdir(dataset)):\n",
    "    f_dir = os.path.join(dataset,value)\n",
    "    for each in os.listdir(f_dir):\n",
    "        image = cv2.imread(os.path.join(f_dir,each),0)\n",
    "        image = cv2.resize(image,(200,200))\n",
    "        data.append((image,i))"
   ]
  },
  {
   "cell_type": "code",
   "execution_count": null,
   "metadata": {},
   "outputs": [],
   "source": [
    "shuffle(data)\n",
    "x = []\n",
    "y = []\n",
    "for features , label in data:\n",
    "    x.append(features)\n",
    "    y.append(label)\n",
    "x = np.array(x).reshape(-1,200,200,1)\n",
    "pickle_out = open(\"X.pickle\",\"wb\")\n",
    "pickle.dump(x,pickle_out)\n",
    "pickle_out.close()\n",
    "\n",
    "pickle_out = open(\"Y.pickle\",\"wb\")\n",
    "pickle.dump(y,pickle_out)\n",
    "pickle_out.close()"
   ]
  },
  {
   "cell_type": "markdown",
   "metadata": {},
   "source": [
    "# Training"
   ]
  },
  {
   "cell_type": "code",
   "execution_count": 2,
   "metadata": {},
   "outputs": [],
   "source": [
    "from tensorflow.keras.datasets import cifar10\n",
    "from tensorflow.keras.preprocessing.image import ImageDataGenerator\n",
    "from tensorflow.keras.models import Sequential\n",
    "from tensorflow.keras.layers import Dense, Dropout, Activation, Flatten\n",
    "from tensorflow.keras.layers import Conv2D, MaxPooling2D"
   ]
  },
  {
   "cell_type": "code",
   "execution_count": null,
   "metadata": {},
   "outputs": [],
   "source": [
    "pickle_in = open(\"X.pickle\", \"rb\")\n",
    "X = pickle.load(pickle_in)\n",
    "\n",
    "pickle_in = open(\"y.pickle\", \"rb\")\n",
    "y = pickle.load(pickle_in)\n",
    "\n",
    "X = X/255.0\n",
    "\n",
    "model = Sequential()\n",
    "\n",
    "model.add(Conv2D(64, (3, 3), input_shape=X.shape[1:]))\n",
    "model.add(Activation('relu'))\n",
    "model.add(MaxPooling2D(pool_size=(2, 2)))\n",
    "\n",
    "model.add(Conv2D(64, (3, 3)))\n",
    "model.add(Activation('relu'))\n",
    "model.add(MaxPooling2D(pool_size=(2, 2)))\n",
    "\n",
    "model.add(Flatten())  \n",
    "\n",
    "model.add(Dense(64))\n",
    "model.add(Activation('sigmoid'))\n",
    "\n",
    "\n",
    "model.add(Dense(1))\n",
    "\n",
    "model.compile(loss='binary_crossentropy',\n",
    "              optimizer='adam',\n",
    "              metrics=['accuracy'])\n",
    "\n",
    "logdir = \"logs\\\\scalars\\\\\" + datetime.datetime.now().strftime(\"%Y%m%d-%H%M%S\")\n",
    "tensorboard_callback = tf.keras.callbacks.TensorBoard(log_dir=logdir)\n",
    "model.fit(X, y, batch_size=32, epochs=10, validation_split=0.3,  callbacks=[tensorboard_callback])\n",
    "\n",
    "model.save(\"model.h5\")"
   ]
  },
  {
   "cell_type": "markdown",
   "metadata": {},
   "source": [
    "# Testing"
   ]
  },
  {
   "cell_type": "code",
   "execution_count": 5,
   "metadata": {},
   "outputs": [
    {
     "name": "stdout",
     "output_type": "stream",
     "text": [
      "WARNING:tensorflow:From C:\\Users\\kabil\\Anaconda3\\lib\\site-packages\\tensorflow_core\\python\\ops\\init_ops.py:97: calling GlorotUniform.__init__ (from tensorflow.python.ops.init_ops) with dtype is deprecated and will be removed in a future version.\n",
      "Instructions for updating:\n",
      "Call initializer instance with the dtype argument instead of passing it to the constructor\n",
      "WARNING:tensorflow:From C:\\Users\\kabil\\Anaconda3\\lib\\site-packages\\tensorflow_core\\python\\ops\\init_ops.py:97: calling Zeros.__init__ (from tensorflow.python.ops.init_ops) with dtype is deprecated and will be removed in a future version.\n",
      "Instructions for updating:\n",
      "Call initializer instance with the dtype argument instead of passing it to the constructor\n",
      "Model: \"sequential_1\"\n",
      "_________________________________________________________________\n",
      "Layer (type)                 Output Shape              Param #   \n",
      "=================================================================\n",
      "conv2d_2 (Conv2D)            (None, 198, 198, 64)      640       \n",
      "_________________________________________________________________\n",
      "activation_3 (Activation)    (None, 198, 198, 64)      0         \n",
      "_________________________________________________________________\n",
      "max_pooling2d_2 (MaxPooling2 (None, 99, 99, 64)        0         \n",
      "_________________________________________________________________\n",
      "conv2d_3 (Conv2D)            (None, 97, 97, 64)        36928     \n",
      "_________________________________________________________________\n",
      "activation_4 (Activation)    (None, 97, 97, 64)        0         \n",
      "_________________________________________________________________\n",
      "max_pooling2d_3 (MaxPooling2 (None, 48, 48, 64)        0         \n",
      "_________________________________________________________________\n",
      "flatten_1 (Flatten)          (None, 147456)            0         \n",
      "_________________________________________________________________\n",
      "dense_2 (Dense)              (None, 64)                9437248   \n",
      "_________________________________________________________________\n",
      "dense_3 (Dense)              (None, 1)                 65        \n",
      "_________________________________________________________________\n",
      "activation_5 (Activation)    (None, 1)                 0         \n",
      "=================================================================\n",
      "Total params: 9,474,881\n",
      "Trainable params: 9,474,881\n",
      "Non-trainable params: 0\n",
      "_________________________________________________________________\n"
     ]
    }
   ],
   "source": [
    "model = tf.keras.models.load_model('model.h5')\n",
    "model.summary()"
   ]
  },
  {
   "cell_type": "code",
   "execution_count": null,
   "metadata": {},
   "outputs": [],
   "source": [
    "def test(path):\n",
    "    image = cv2.imread(path,1)\n",
    "    gray = cv2.cvtColor(image, cv2.COLOR_BGR2GRAY)\n",
    "    blurred = cv2.GaussianBlur(gray,(5,5),0)\n",
    "    min_x = image.shape[0]\n",
    "    min_y = image.shape[1]\n",
    "    max_x = 0\n",
    "    max_y = 0\n",
    "    canny = cv2.Canny(blurred,0,250)\n",
    "    (cnts,_) = cv2.findContours(canny.copy(),cv2.RETR_TREE,cv2.CHAIN_APPROX_SIMPLE)\n",
    "    coints = image.copy()\n",
    "    frame = image.copy()\n",
    "    cv2.drawContours(frame,cnts,-1,(255,0,0),2)\n",
    "    for cnt in cnts:\n",
    "        x ,y,w,h = cv2.boundingRect(cnt)\n",
    "        area = w * h\n",
    "        if area > ((image.shape[0] * image.shape[1]) * 0.2):\n",
    "            if min_x > x:\n",
    "                min_x = x\n",
    "            if min_y > y:\n",
    "                min_y = y\n",
    "            if max_x < (x + w):\n",
    "                max_x = x + w\n",
    "            if max_y < (y + h):\n",
    "                max_y = y +h\n",
    "    cv2.rectangle(coints,(min_x,min_y),(max_x,max_y),(0,255,0),2)\n",
    "    roi = gray[min_y:max_y,min_x:max_x]\n",
    "    image = cv2.resize(roi,(200,200))\n",
    "    x = np.array(image).reshape(-1,200,200,1)\n",
    "    y = model.predict(x)\n",
    "    print(y[0][0])"
   ]
  },
  {
   "cell_type": "code",
   "execution_count": null,
   "metadata": {},
   "outputs": [],
   "source": [
    "from matplotlib import pyplot as plt\n",
    "%matplotlib inline"
   ]
  },
  {
   "cell_type": "code",
   "execution_count": null,
   "metadata": {},
   "outputs": [],
   "source": [
    "def ptest(path):\n",
    "    image = cv2.imread(path,0)\n",
    "    plt.imshow(image)\n",
    "    plt.show()\n",
    "    image = cv2.resize(image,(200,200))\n",
    "    x = np.array(image).reshape(-1,200,200,1)\n",
    "    y = model.predict(x)\n",
    "    print(y[0][0])"
   ]
  },
  {
   "cell_type": "code",
   "execution_count": null,
   "metadata": {},
   "outputs": [],
   "source": [
    "for i , each in enumerate(os.listdir(\"ptest\")):\n",
    "    print(each,f\"expected {i} : observerd ->\")\n",
    "\n",
    "    for file in os.listdir(f\"ptest/{each}\"):\n",
    "        print(file)\n",
    "        \n",
    "        test(f\"ptest/{each}/\"+file)\n"
   ]
  },
  {
   "cell_type": "code",
   "execution_count": null,
   "metadata": {},
   "outputs": [],
   "source": [
    "for layer in model.layers:\n",
    "        weights, bias= layer.get_weights()\n",
    "        \n",
    "        f_min, f_max = weights.min(), weights.max()\n",
    "        \n",
    "        filters = (weights - f_min) / (f_max - f_min)  \n",
    "        print(layer.name, filters.shape)\n",
    "\n",
    "        for i in range(filters.shape[3]):\n",
    "            filt=filters[:,:,:, i]\n",
    "            print(filt)\n",
    "          "
   ]
  },
  {
   "cell_type": "code",
   "execution_count": null,
   "metadata": {},
   "outputs": [],
   "source": [
    "for layer in model.layers:\n",
    "      if 'conv' in layer.name:\n",
    "        weights, bias= layer.get_weights()\n",
    "        \n",
    "        f_min, f_max = weights.min(), weights.max()\n",
    "        \n",
    "        filters = (weights - f_min) / (f_max - f_min)  \n",
    "        print(layer.name, filters.shape)\n",
    "\n",
    "        print(filters.shape[3])\n",
    "        filter_cnt=1\n",
    "        \n",
    "        for i in range(filters.shape[3]):\n",
    "            filt=filters[:,:,:, i]\n",
    "            for j in range(filters.shape[0]):\n",
    "                ax= plt.subplot(filters.shape[3], filters.shape[0], filter_cnt  )\n",
    "                ax.set_xticks([])\n",
    "                ax.set_yticks([])\n",
    "                plt.imshow(filt[:, j])\n",
    "                filter_cnt+=1\n",
    "        plt.show()"
   ]
  },
  {
   "cell_type": "code",
   "execution_count": null,
   "metadata": {},
   "outputs": [],
   "source": [
    "!tensorboard --logdir logs/scalars"
   ]
  }
 ],
 "metadata": {
  "kernelspec": {
   "display_name": "Python 3",
   "language": "python",
   "name": "python3"
  },
  "language_info": {
   "codemirror_mode": {
    "name": "ipython",
    "version": 3
   },
   "file_extension": ".py",
   "mimetype": "text/x-python",
   "name": "python",
   "nbconvert_exporter": "python",
   "pygments_lexer": "ipython3",
   "version": "3.7.7"
  }
 },
 "nbformat": 4,
 "nbformat_minor": 4
}
