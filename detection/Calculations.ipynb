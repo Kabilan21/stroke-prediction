{
 "cells": [
  {
   "cell_type": "code",
   "execution_count": 10,
   "metadata": {},
   "outputs": [],
   "source": [
    "import numpy as np\n",
    "import cv2\n",
    "import matplotlib.pyplot as plt"
   ]
  },
  {
   "cell_type": "code",
   "execution_count": 11,
   "metadata": {},
   "outputs": [],
   "source": [
    "kernel1 = np.array([[0.43719608, 0.70202315, 0.4444901],\n",
    "\n",
    "                    [0.46958 , 0.08807961, 0.83101636],\n",
    "\n",
    "                    [0.96853405, 0.4169272 , 0.5999559]])\n"
   ]
  },
  {
   "cell_type": "code",
   "execution_count": 12,
   "metadata": {},
   "outputs": [
    {
     "data": {
      "text/plain": [
       "(3, 3)"
      ]
     },
     "execution_count": 12,
     "metadata": {},
     "output_type": "execute_result"
    }
   ],
   "source": [
    "kernel1.shape"
   ]
  },
  {
   "cell_type": "code",
   "execution_count": 13,
   "metadata": {},
   "outputs": [],
   "source": [
    "kernel2 = np.array([[0.42089933],\n",
    "  [0.30614805],\n",
    "  [0.48108655],\n",
    "\n",
    " [0.44783658],\n",
    "  [0.33110785],\n",
    "  [0.7673952 ],\n",
    "\n",
    " [0.51875657],\n",
    "  [0.8824891 ],\n",
    "  [0.7823843 ]])"
   ]
  },
  {
   "cell_type": "code",
   "execution_count": 14,
   "metadata": {},
   "outputs": [],
   "source": [
    "img_path = \"test/normal-0.jpg\"\n",
    "img= cv2.imread(img_path,0)\n",
    "img = cv2.resize(img,(200,200))\n"
   ]
  },
  {
   "cell_type": "code",
   "execution_count": 15,
   "metadata": {},
   "outputs": [],
   "source": [
    "img = img/ 255"
   ]
  },
  {
   "cell_type": "code",
   "execution_count": 16,
   "metadata": {},
   "outputs": [
    {
     "name": "stdout",
     "output_type": "stream",
     "text": [
      "[[0.         0.         0.         ... 0.         0.         0.        ]\n",
      " [0.         0.         0.00235277 ... 0.00379817 0.         0.        ]\n",
      " [0.         0.00235277 0.00724666 ... 0.00563966 0.         0.        ]\n",
      " ...\n",
      " [0.         0.         0.0017431  ... 0.00807182 0.00390139 0.00510038]\n",
      " [0.         0.         0.         ... 0.00449613 0.00446753 0.00345759]\n",
      " [0.         0.         0.         ... 0.         0.         0.        ]]\n"
     ]
    }
   ],
   "source": [
    "x = cv2.filter2D(src=img, ddepth=-1, kernel=kernel1,)\n",
    "print(x)"
   ]
  },
  {
   "cell_type": "code",
   "execution_count": 17,
   "metadata": {},
   "outputs": [],
   "source": [
    "x = x -  x.mean()\n",
    "x /= x.std ()\n",
    "x *=  64\n",
    "x += 128\n",
    "x  = np.clip(x, 0, 255)"
   ]
  },
  {
   "cell_type": "code",
   "execution_count": 18,
   "metadata": {},
   "outputs": [
    {
     "data": {
      "text/plain": [
       "True"
      ]
     },
     "execution_count": 18,
     "metadata": {},
     "output_type": "execute_result"
    }
   ],
   "source": [
    "cv2.imwrite(\"result.png\",x)"
   ]
  },
  {
   "cell_type": "code",
   "execution_count": null,
   "metadata": {},
   "outputs": [],
   "source": []
  }
 ],
 "metadata": {
  "kernelspec": {
   "display_name": "Python 3",
   "language": "python",
   "name": "python3"
  },
  "language_info": {
   "codemirror_mode": {
    "name": "ipython",
    "version": 3
   },
   "file_extension": ".py",
   "mimetype": "text/x-python",
   "name": "python",
   "nbconvert_exporter": "python",
   "pygments_lexer": "ipython3",
   "version": "3.7.7"
  }
 },
 "nbformat": 4,
 "nbformat_minor": 4
}
